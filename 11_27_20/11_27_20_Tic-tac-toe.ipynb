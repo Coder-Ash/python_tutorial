{
 "metadata": {
  "language_info": {
   "codemirror_mode": {
    "name": "ipython",
    "version": 3
   },
   "file_extension": ".py",
   "mimetype": "text/x-python",
   "name": "python",
   "nbconvert_exporter": "python",
   "pygments_lexer": "ipython3",
   "version": "3.8.3-final"
  },
  "orig_nbformat": 2,
  "kernelspec": {
   "name": "python3",
   "display_name": "Python 3"
  }
 },
 "nbformat": 4,
 "nbformat_minor": 2,
 "cells": [
  {
   "cell_type": "code",
   "execution_count": 1,
   "metadata": {},
   "outputs": [],
   "source": [
    "from IPython.display import clear_output\n",
    "\n",
    "def display(*args):\n",
    "    clear_output(wait=True)\n",
    "    for arg in args:\n",
    "        print(arg)"
   ]
  },
  {
   "cell_type": "code",
   "execution_count": 2,
   "metadata": {},
   "outputs": [],
   "source": [
    "def remove_entry(row, column, entries):\n",
    "    if ('row' + row) in entries:    \n",
    "        if ('column' + column) in entries['row' + row]:\n",
    "            del entries['row' + row]['column' + column]\n",
    "        else:\n",
    "            return False\n",
    "    else: \n",
    "        return False\n",
    "\n",
    "    \n",
    "    if len(entries['row' + row]) == 0:\n",
    "        del entries['row' + row]\n",
    "    \n",
    "    return True\n"
   ]
  },
  {
   "cell_type": "code",
   "execution_count": 3,
   "metadata": {},
   "outputs": [],
   "source": [
    "import random\n",
    "\n",
    "def computer_move(entries):\n",
    "    rowchoice = random.choice([row for row in entries.keys()])\n",
    "    columnchoice = random.choice([column for column in entries[rowchoice].keys()]).replace('column', '')\n",
    "    rowchoice = rowchoice.replace('row', '')\n",
    "\n",
    "    remove_entry(str(rowchoice), str(columnchoice), entries)\n",
    "    return [int(rowchoice), int(columnchoice)-1]"
   ]
  },
  {
   "cell_type": "code",
   "execution_count": 4,
   "metadata": {},
   "outputs": [],
   "source": [
    "from collections import Counter\n",
    "\n",
    "def determine_winner(rows):\n",
    "\n",
    "    column1 = [rows[1][0], rows[2][0], rows[3][0]]\n",
    "    column2 = [rows[1][1], rows[2][1], rows[3][1]]\n",
    "    column3 = [rows[1][2], rows[2][2], rows[3][2]]\n",
    "\n",
    "    diagonal1 = [rows[1][0], rows[2][1], rows[3][2]]\n",
    "    diagonal2 = [rows[3][0], rows[2][1], rows[1][2]]\n",
    "\n",
    "    if Counter(column1)['X'] == 3 or Counter(column2)['X'] == 3 or Counter(column3)['X'] == 3 or Counter(rows[1])['X'] == 3 or Counter(rows[2])['X'] == 3 or Counter(rows[3])['X'] == 3 or Counter(diagonal1)['X'] == 3 or Counter(diagonal2)['X'] == 3:\n",
    "        return \"Player is the winner\"\n",
    "    elif Counter(column1)['O'] == 3 or Counter(column2)['O'] == 3 or Counter(column3)['O'] == 3 or Counter(rows[1])['X'] == 3 or Counter(rows[2])['O'] == 3 or Counter(rows[3])['O'] == 3 or Counter(diagonal1)['O'] == 3 or Counter(diagonal2)['O'] == 3:\n",
    "        return \"Computer is the winner\"\n",
    "    else:\n",
    "        return 0\n",
    "\n"
   ]
  },
  {
   "cell_type": "code",
   "execution_count": 5,
   "metadata": {},
   "outputs": [],
   "source": [
    "def get_input(errormsg):\n",
    "    message = \"Please choose cell to insert your X (1,1 = row 1, col 1): \"  \n",
    "    if len(errormsg) > 0:\n",
    "        message = errormsg + message\n",
    "    \n",
    "    while True:\n",
    "        choice = input(message)\n",
    "        if ',' in choice:\n",
    "            choice = choice.split(',')        \n",
    "            if choice[0].isdigit() and choice[1].isdigit():\n",
    "                return choice\n",
    "        \n",
    "\n",
    "        errormsg = \"Invalid Entry, please try again.....\""
   ]
  },
  {
   "cell_type": "code",
   "execution_count": 8,
   "metadata": {},
   "outputs": [
    {
     "output_type": "stream",
     "name": "stdout",
     "text": [
      "[' ', ' ', 'X']\n['O', 'X', ' ']\n['X', ' ', 'O']\n\nPlayer is the winner\n"
     ]
    }
   ],
   "source": [
    "\n",
    "\n",
    "\n",
    "row1 = [' ', ' ', ' ']\n",
    "row2 = [' ', ' ', ' ']\n",
    "row3 = [' ', ' ', ' ']\n",
    "\n",
    "rows = {1: row1, 2: row2, 3: row3}\n",
    "\n",
    "availableentries = {'row1': {'column1' : '', 'column2' : '', 'column3' : ''},\n",
    "                    'row2': {'column1' : '', 'column2' : '', 'column3' : ''},\n",
    "                    'row3': {'column1' : '', 'column2' : '', 'column3' : ''}}\n",
    "\n",
    "display(row1, row2, row3)\n",
    "answer = 0\n",
    "errmsg = ''\n",
    "while len(availableentries) > 0 and answer == 0:\n",
    "    choice = get_input(errmsg)    \n",
    "\n",
    "    row = int(choice[0])\n",
    "    column = int(choice[1])\n",
    "    \n",
    "    if remove_entry(str(row), str(column), availableentries):\n",
    "    \n",
    "        rows[row][column-1] = \"X\"\n",
    "        answer = determine_winner(rows)\n",
    "        errmsg = ''\n",
    "        if answer == 0:\n",
    "\n",
    "            if len(availableentries) > 0:\n",
    "                computerchoice = computer_move(availableentries)\n",
    "                rows[computerchoice[0]][computerchoice[1]] = \"O\"\n",
    "            \n",
    "            display(row1, row2, row3)\n",
    "        else:\n",
    "            display(row1, row2, row3)\n",
    "            print(\"\\n\" + str(answer))\n",
    "    else:\n",
    "        errmsg = \"Invalid Entry, please try again.....\"\n",
    "\n"
   ]
  },
  {
   "cell_type": "code",
   "execution_count": null,
   "metadata": {},
   "outputs": [],
   "source": []
  }
 ]
}