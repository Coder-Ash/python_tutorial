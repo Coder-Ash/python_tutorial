{
 "metadata": {
  "language_info": {
   "codemirror_mode": {
    "name": "ipython",
    "version": 3
   },
   "file_extension": ".py",
   "mimetype": "text/x-python",
   "name": "python",
   "nbconvert_exporter": "python",
   "pygments_lexer": "ipython3",
   "version": "3.8.3-final"
  },
  "orig_nbformat": 2,
  "kernelspec": {
   "name": "python3",
   "display_name": "Python 3"
  }
 },
 "nbformat": 4,
 "nbformat_minor": 2,
 "cells": [
  {
   "cell_type": "code",
   "execution_count": 1,
   "metadata": {},
   "outputs": [],
   "source": [
    "from random import shuffle"
   ]
  },
  {
   "cell_type": "code",
   "execution_count": 3,
   "metadata": {},
   "outputs": [
    {
     "output_type": "execute_result",
     "data": {
      "text/plain": [
       "[3, 1, 5, 2, 4]"
      ]
     },
     "metadata": {},
     "execution_count": 3
    }
   ],
   "source": [
    "example = [1,2,3,4,5]\n",
    "shuffle(example)\n",
    "example"
   ]
  },
  {
   "cell_type": "code",
   "execution_count": 4,
   "metadata": {},
   "outputs": [],
   "source": [
    "def shuffle_list (myList):\n",
    "    shuffle(myList)\n",
    "    return myList\n",
    "    "
   ]
  },
  {
   "cell_type": "code",
   "execution_count": 23,
   "metadata": {},
   "outputs": [
    {
     "output_type": "execute_result",
     "data": {
      "text/plain": [
       "[' ', ' ', 'O']"
      ]
     },
     "metadata": {},
     "execution_count": 23
    }
   ],
   "source": [
    "example = [' ', 'O', ' ']\n",
    "results = shuffle_list(example)\n",
    "results"
   ]
  },
  {
   "cell_type": "code",
   "execution_count": 69,
   "metadata": {},
   "outputs": [],
   "source": [
    "def player_guess ():\n",
    "    shuffle_list(example)\n",
    "    index = 0\n",
    "    while index not in [1,2,3]:\n",
    "        index = int(input(\"Pick which slot has the 'O' (1, 2, 3)\"))\n",
    "        if index not in [1,2,3]:\n",
    "            print(\"Incorrect value.  Please try gain.\")\n",
    "    \n",
    "    if example[index-1] == 'O':\n",
    "        print(\"You guessed correctly\")\n",
    "    else:\n",
    "        print(\"You guessed wrong\")\n",
    "        print(example)\n"
   ]
  },
  {
   "cell_type": "code",
   "execution_count": 71,
   "metadata": {},
   "outputs": [
    {
     "output_type": "stream",
     "name": "stdout",
     "text": [
      "Incorrect value.  Please try gain.\n",
      "Incorrect value.  Please try gain.\n",
      "You guessed correctly\n"
     ]
    }
   ],
   "source": [
    "player_guess()"
   ]
  },
  {
   "cell_type": "code",
   "execution_count": null,
   "metadata": {},
   "outputs": [],
   "source": []
  }
 ]
}