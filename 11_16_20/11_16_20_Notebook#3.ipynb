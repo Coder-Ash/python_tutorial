{
 "metadata": {
  "language_info": {
   "codemirror_mode": {
    "name": "ipython",
    "version": 3
   },
   "file_extension": ".py",
   "mimetype": "text/x-python",
   "name": "python",
   "nbconvert_exporter": "python",
   "pygments_lexer": "ipython3",
   "version": "3.8.3-final"
  },
  "orig_nbformat": 2,
  "kernelspec": {
   "name": "python3",
   "display_name": "Python 3"
  }
 },
 "nbformat": 4,
 "nbformat_minor": 2,
 "cells": [
  {
   "cell_type": "code",
   "execution_count": 1,
   "metadata": {},
   "outputs": [],
   "source": [
    "stock_prices = [('APPL', 200), ('GOOG',400), ('MSFT', 100)]\n"
   ]
  },
  {
   "cell_type": "code",
   "execution_count": 2,
   "metadata": {},
   "outputs": [
    {
     "output_type": "stream",
     "name": "stdout",
     "text": [
      "('APPL', 200)\n('GOOG', 400)\n('MSFT', 100)\n"
     ]
    }
   ],
   "source": [
    "for item in stock_prices:\n",
    "    print(item)"
   ]
  },
  {
   "cell_type": "code",
   "execution_count": 8,
   "metadata": {},
   "outputs": [
    {
     "output_type": "stream",
     "name": "stdout",
     "text": [
      "APPL:  200\nGOOG:  400\nMSFT:  100\n"
     ]
    }
   ],
   "source": [
    "for (ticker, price) in stock_prices:\n",
    "    print(f\"{ticker}:  {price}\")"
   ]
  },
  {
   "cell_type": "code",
   "execution_count": 39,
   "metadata": {},
   "outputs": [],
   "source": [
    "work_hours = [('Abby', 100), ('Billy', 4000), ('Cassie', 800)]"
   ]
  },
  {
   "cell_type": "code",
   "execution_count": 25,
   "metadata": {},
   "outputs": [],
   "source": [
    "def employee_of_the_month(work_hours_list):\n",
    "    leadingHours = 0\n",
    "    index = -1\n",
    "    \n",
    "    for name,hours in work_hours_list:\n",
    "        if hours > leadingHours:\n",
    "            leadingHours = hours\n",
    "            index += 1       \n",
    "    \n",
    "    return work_hours_list[index]\n",
    "\n"
   ]
  },
  {
   "cell_type": "code",
   "execution_count": 31,
   "metadata": {},
   "outputs": [],
   "source": [
    "def employee_of_the_month(work_hours_list):\n",
    "    leadingHours = 0\n",
    "    index = -1\n",
    "    \n",
    "    for i, value in enumerate(work_hours_list):\n",
    "        (name, hours) = value\n",
    "        if hours > leadingHours:\n",
    "            leadingHours = hours\n",
    "            index = i      \n",
    "    \n",
    "    return work_hours_list[index]\n",
    "\n"
   ]
  },
  {
   "cell_type": "code",
   "execution_count": 44,
   "metadata": {},
   "outputs": [],
   "source": [
    "def sortEmployeeHours(element):\n",
    "    return element[1]\n",
    "\n",
    "'''This function returns a tuple of \"Employee, Hours\"'''\n",
    "def employee_of_the_month(work_hours_list):    \n",
    "    work_hours_list.sort(reverse=True, key=sortEmployeeHours)\n",
    "    return work_hours_list[0]"
   ]
  },
  {
   "cell_type": "code",
   "execution_count": 40,
   "metadata": {},
   "outputs": [
    {
     "output_type": "execute_result",
     "data": {
      "text/plain": [
       "('Billy', 4000)"
      ]
     },
     "metadata": {},
     "execution_count": 40
    }
   ],
   "source": [
    "employee_of_the_month(work_hours)"
   ]
  },
  {
   "cell_type": "code",
   "execution_count": 45,
   "metadata": {},
   "outputs": [
    {
     "output_type": "stream",
     "name": "stdout",
     "text": [
      "Billy\n"
     ]
    }
   ],
   "source": [
    "(employee, hours) = employee_of_the_month(work_hours)\n",
    "print(employee)"
   ]
  },
  {
   "cell_type": "code",
   "execution_count": null,
   "metadata": {},
   "outputs": [],
   "source": []
  }
 ]
}